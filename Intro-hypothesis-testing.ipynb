{
 "cells": [
  {
   "cell_type": "markdown",
   "id": "3f9308f0",
   "metadata": {
    "toc": true
   },
   "source": [
    "<h1>Table of Contents<span class=\"tocSkip\"></span></h1>\n",
    "<div class=\"toc\"><ul class=\"toc-item\"><li><span><a href=\"#Who's-paying-for-dinner?\" data-toc-modified-id=\"Who's-paying-for-dinner?-1\"><span class=\"toc-item-num\">1&nbsp;&nbsp;</span>Who's paying for dinner?</a></span><ul class=\"toc-item\"><li><span><a href=\"#What-we-can-expect-to-happen:-theoretical-probability\" data-toc-modified-id=\"What-we-can-expect-to-happen:-theoretical-probability-1.1\"><span class=\"toc-item-num\">1.1&nbsp;&nbsp;</span>What we can expect to happen: theoretical probability</a></span><ul class=\"toc-item\"><li><span><a href=\"#Probability-of-him-paying:-less-than-10-heads\" data-toc-modified-id=\"Probability-of-him-paying:-less-than-10-heads-1.1.1\"><span class=\"toc-item-num\">1.1.1&nbsp;&nbsp;</span>Probability of him paying: less than 10 heads</a></span></li><li><span><a href=\"#Probability-of-me-paying:-more-than-10-heads\" data-toc-modified-id=\"Probability-of-me-paying:-more-than-10-heads-1.1.2\"><span class=\"toc-item-num\">1.1.2&nbsp;&nbsp;</span>Probability of me paying: more than 10 heads</a></span></li><li><span><a href=\"#Probability-of-a-tie\" data-toc-modified-id=\"Probability-of-a-tie-1.1.3\"><span class=\"toc-item-num\">1.1.3&nbsp;&nbsp;</span>Probability of a tie</a></span></li></ul></li><li><span><a href=\"#Experiment\" data-toc-modified-id=\"Experiment-1.2\"><span class=\"toc-item-num\">1.2&nbsp;&nbsp;</span>Experiment</a></span></li><li><span><a href=\"#Let's-test-it\" data-toc-modified-id=\"Let's-test-it-1.3\"><span class=\"toc-item-num\">1.3&nbsp;&nbsp;</span>Let's test it</a></span><ul class=\"toc-item\"><li><span><a href=\"#Binomial-test-for-hypothesis\" data-toc-modified-id=\"Binomial-test-for-hypothesis-1.3.1\"><span class=\"toc-item-num\">1.3.1&nbsp;&nbsp;</span>Binomial test for hypothesis</a></span></li></ul></li><li><span><a href=\"#Okay,-but-what-do-I-do-with-this-info?\" data-toc-modified-id=\"Okay,-but-what-do-I-do-with-this-info?-1.4\"><span class=\"toc-item-num\">1.4&nbsp;&nbsp;</span>Okay, but what do I do with this info?</a></span></li></ul></li><li><span><a href=\"#Recap-of-me-testing-my-friendship:\" data-toc-modified-id=\"Recap-of-me-testing-my-friendship:-2\"><span class=\"toc-item-num\">2&nbsp;&nbsp;</span>Recap of me testing my friendship:</a></span></li><li><span><a href=\"#In-other-words\" data-toc-modified-id=\"In-other-words-3\"><span class=\"toc-item-num\">3&nbsp;&nbsp;</span>In other words</a></span><ul class=\"toc-item\"><li><span><a href=\"#Some-misunderstandings-of-p-values:\" data-toc-modified-id=\"Some-misunderstandings-of-p-values:-3.1\"><span class=\"toc-item-num\">3.1&nbsp;&nbsp;</span>Some misunderstandings of p-values:</a></span></li><li><span><a href=\"#Null-hypothesis-vs.-Alternative-hypothesis\" data-toc-modified-id=\"Null-hypothesis-vs.-Alternative-hypothesis-3.2\"><span class=\"toc-item-num\">3.2&nbsp;&nbsp;</span>Null hypothesis vs. Alternative hypothesis</a></span></li></ul></li><li><span><a href=\"#Normal-Gaussian-curve\" data-toc-modified-id=\"Normal-Gaussian-curve-4\"><span class=\"toc-item-num\">4&nbsp;&nbsp;</span>Normal Gaussian curve</a></span></li><li><span><a href=\"#Data-Requirements-for-z-tests¶\" data-toc-modified-id=\"Data-Requirements-for-z-tests¶-5\"><span class=\"toc-item-num\">5&nbsp;&nbsp;</span>Data Requirements for z-tests¶</a></span></li><li><span><a href=\"#Hypothesis-Tests-Order-of-Steps-for-z-tests¶\" data-toc-modified-id=\"Hypothesis-Tests-Order-of-Steps-for-z-tests¶-6\"><span class=\"toc-item-num\">6&nbsp;&nbsp;</span>Hypothesis Tests Order of Steps for z-tests¶</a></span></li></ul></div>"
   ]
  },
  {
   "cell_type": "code",
   "execution_count": 1,
   "id": "27b30bdf",
   "metadata": {},
   "outputs": [],
   "source": [
    "import seaborn as sns\n",
    "import scipy.stats as stats\n",
    "import numpy as np\n",
    "import random\n",
    "import warnings\n",
    "import matplotlib.pyplot as plt\n",
    "%matplotlib inline"
   ]
  },
  {
   "cell_type": "code",
   "execution_count": 2,
   "id": "ceaa13ab",
   "metadata": {},
   "outputs": [],
   "source": [
    "from scipy.stats import binomtest\n",
    "from scipy.stats import binom"
   ]
  },
  {
   "cell_type": "code",
   "execution_count": 3,
   "id": "46f1d359",
   "metadata": {},
   "outputs": [],
   "source": [
    "sns.set(rc={'figure.figsize':(13, 7.5)})\n",
    "sns.set_context('talk')\n",
    "\n",
    "warnings.filterwarnings('ignore')"
   ]
  },
  {
   "cell_type": "markdown",
   "id": "077848f0",
   "metadata": {},
   "source": [
    "# Who's paying for dinner?"
   ]
  },
  {
   "cell_type": "markdown",
   "id": "f78052a7",
   "metadata": {},
   "source": [
    "![](https://media.giphy.com/media/z2R9CvTLQ2lcQ/giphy.gif)"
   ]
  },
  {
   "cell_type": "markdown",
   "id": "f72b639f",
   "metadata": {},
   "source": [
    "Let's flip a coin: If my friend tosses a coin 20 times and he gets MORE than 10 heads, I will pay. Less heads and he'll pay."
   ]
  },
  {
   "cell_type": "markdown",
   "id": "0aa4f7f6",
   "metadata": {},
   "source": [
    "## What we can expect to happen: theoretical probability"
   ]
  },
  {
   "cell_type": "markdown",
   "id": "0f1ed595",
   "metadata": {
    "lang": "en"
   },
   "source": [
    "The sample space is $\\Omega = \\{H, T\\}$, heads and tails"
   ]
  },
  {
   "cell_type": "markdown",
   "id": "62c9da26",
   "metadata": {},
   "source": [
    "$P(H) = \\frac{1}{2} (=0.5 = 50\\%)$"
   ]
  },
  {
   "cell_type": "markdown",
   "id": "ac82e103",
   "metadata": {},
   "source": [
    "$P(T) = \\frac{1}{2} (=0.5 = 50\\%)$"
   ]
  },
  {
   "cell_type": "code",
   "execution_count": 4,
   "id": "80ae48a2",
   "metadata": {},
   "outputs": [],
   "source": [
    "N = 20"
   ]
  },
  {
   "cell_type": "code",
   "execution_count": 5,
   "id": "9a024e87",
   "metadata": {
    "colab": {},
    "colab_type": "code",
    "id": "Rm-AQZ_DGor6"
   },
   "outputs": [],
   "source": [
    "p = 0.5"
   ]
  },
  {
   "cell_type": "code",
   "execution_count": 6,
   "id": "cb15c181",
   "metadata": {
    "colab": {},
    "colab_type": "code",
    "id": "h-_Ioss8NwNo"
   },
   "outputs": [],
   "source": [
    "my_binomial = binom(N, p) #binom(20, 0.05)"
   ]
  },
  {
   "cell_type": "code",
   "execution_count": 147,
   "id": "f945b22a",
   "metadata": {},
   "outputs": [
    {
     "data": {
      "text/plain": [
       "10.0"
      ]
     },
     "execution_count": 147,
     "metadata": {},
     "output_type": "execute_result"
    }
   ],
   "source": [
    "my_binomial.mean()"
   ]
  },
  {
   "cell_type": "markdown",
   "id": "a3e3d993",
   "metadata": {},
   "source": [
    "### Probability of him paying: less than 10 heads"
   ]
  },
  {
   "cell_type": "code",
   "execution_count": 26,
   "id": "2d9a9ec9",
   "metadata": {},
   "outputs": [
    {
     "data": {
      "text/plain": [
       "0.41190147399902344"
      ]
     },
     "execution_count": 26,
     "metadata": {},
     "output_type": "execute_result"
    }
   ],
   "source": [
    "my_binomial.cdf(9) # cumulative: up to 9"
   ]
  },
  {
   "cell_type": "markdown",
   "id": "35b17302",
   "metadata": {},
   "source": [
    "### Probability of me paying: more than 10 heads"
   ]
  },
  {
   "cell_type": "code",
   "execution_count": 25,
   "id": "31cae2c4",
   "metadata": {},
   "outputs": [
    {
     "data": {
      "text/plain": [
       "0.41190147399902344"
      ]
     },
     "execution_count": 25,
     "metadata": {},
     "output_type": "execute_result"
    }
   ],
   "source": [
    "my_binomial.cdf(20) - my_binomial.cdf(10) # cumulative: between 20-11"
   ]
  },
  {
   "cell_type": "markdown",
   "id": "2e958210",
   "metadata": {},
   "source": [
    "### Probability of a tie"
   ]
  },
  {
   "cell_type": "code",
   "execution_count": 31,
   "id": "e56e700c",
   "metadata": {},
   "outputs": [
    {
     "data": {
      "text/plain": [
       "0.17619705200195296"
      ]
     },
     "execution_count": 31,
     "metadata": {},
     "output_type": "execute_result"
    }
   ],
   "source": [
    "my_binomial.pmf(10) # one value: 10"
   ]
  },
  {
   "cell_type": "markdown",
   "id": "148fda78",
   "metadata": {},
   "source": [
    "I'm expecting the results to be close to the mean: **7, 8, 9, 10, 11, 12**..."
   ]
  },
  {
   "cell_type": "code",
   "execution_count": 13,
   "id": "fb69c030",
   "metadata": {
    "scrolled": false
   },
   "outputs": [
    {
     "data": {
      "text/plain": [
       "<matplotlib.collections.LineCollection at 0x7f985a1e5580>"
      ]
     },
     "execution_count": 13,
     "metadata": {},
     "output_type": "execute_result"
    },
    {
     "data": {
      "image/png": "[encoded data removed]",
      "text/plain": [
       "<Figure size 936x540 with 1 Axes>"
      ]
     },
     "metadata": {},
     "output_type": "display_data"
    }
   ],
   "source": [
    "x = np.arange(0,21)\n",
    "plt.plot(x, my_binomial.pmf(x), \"bo\")\n",
    "plt.vlines(x, 0, my_binomial.pmf(x), colors='b', lw=5, alpha=0.5)"
   ]
  },
  {
   "cell_type": "markdown",
   "id": "910b4e0a",
   "metadata": {},
   "source": [
    "## Experiment"
   ]
  },
  {
   "cell_type": "code",
   "execution_count": 32,
   "id": "7c08e1cd",
   "metadata": {},
   "outputs": [],
   "source": [
    "my_friend = [1, 1, 1, 1, 1, 1, 1, 1, 1, 1, 1, 1, 1, 1, 0, 0, 0, 0, 0, 0]"
   ]
  },
  {
   "cell_type": "code",
   "execution_count": 33,
   "id": "b10eeee6",
   "metadata": {},
   "outputs": [
    {
     "data": {
      "text/plain": [
       "14"
      ]
     },
     "execution_count": 33,
     "metadata": {},
     "output_type": "execute_result"
    }
   ],
   "source": [
    "my_friend.count(1)"
   ]
  },
  {
   "cell_type": "code",
   "execution_count": 10,
   "id": "e8d10cfe",
   "metadata": {
    "scrolled": false
   },
   "outputs": [
    {
     "data": {
      "text/plain": [
       "<AxesSubplot:ylabel='count'>"
      ]
     },
     "execution_count": 10,
     "metadata": {},
     "output_type": "execute_result"
    },
    {
     "data": {
      "image/png": "[encoded data removed]",
      "text/plain": [
       "<Figure size 936x540 with 1 Axes>"
      ]
     },
     "metadata": {},
     "output_type": "display_data"
    }
   ],
   "source": [
    "sns.countplot(x=my_friend)"
   ]
  },
  {
   "cell_type": "code",
   "execution_count": 59,
   "id": "83738ff7",
   "metadata": {},
   "outputs": [],
   "source": [
    "# Wait, getting more than 10 I did expect, but 14? there's something fishy going on 🧐"
   ]
  },
  {
   "cell_type": "markdown",
   "id": "34ba8828",
   "metadata": {},
   "source": [
    "![](https://media.giphy.com/media/PV4YusEdNup0s/giphy.gif)"
   ]
  },
  {
   "cell_type": "code",
   "execution_count": 51,
   "id": "85fe18ad",
   "metadata": {},
   "outputs": [
    {
     "data": {
      "text/plain": [
       "0.036964416503906236"
      ]
     },
     "execution_count": 51,
     "metadata": {},
     "output_type": "execute_result"
    }
   ],
   "source": [
    "my_binomial.pmf(14)"
   ]
  },
  {
   "cell_type": "code",
   "execution_count": 56,
   "id": "39133105",
   "metadata": {},
   "outputs": [
    {
     "data": {
      "text/plain": [
       "0.9793052673339844"
      ]
     },
     "execution_count": 56,
     "metadata": {},
     "output_type": "execute_result"
    }
   ],
   "source": [
    "my_binomial.cdf(14)"
   ]
  },
  {
   "cell_type": "markdown",
   "id": "5b87fdda",
   "metadata": {},
   "source": [
    "What is then the chance of a fair coin landing at least **14 times on heads out of 20 flips** plus the chance of a fair coin landing **14 times or more on tails out of 20 flips**. "
   ]
  },
  {
   "cell_type": "markdown",
   "id": "b55e18a9",
   "metadata": {},
   "source": [
    "$P(Observation | H0) = 0.0577 * 2 = 0.1154$"
   ]
  },
  {
   "cell_type": "code",
   "execution_count": 121,
   "id": "4eec4654",
   "metadata": {},
   "outputs": [
    {
     "data": {
      "text/plain": [
       "0.05765914916992186"
      ]
     },
     "execution_count": 121,
     "metadata": {},
     "output_type": "execute_result"
    }
   ],
   "source": [
    "# What is the probability of getting 14 or more H?\n",
    "my_binomial.pmf(14) + my_binomial.pmf(15) + my_binomial.pmf(16) + my_binomial.pmf(17) + my_binomial.pmf(18) + my_binomial.pmf(19) + my_binomial.pmf(20)"
   ]
  },
  {
   "cell_type": "code",
   "execution_count": 122,
   "id": "0a64cde9",
   "metadata": {},
   "outputs": [
    {
     "data": {
      "text/plain": [
       "0.057659149169921875"
      ]
     },
     "execution_count": 122,
     "metadata": {},
     "output_type": "execute_result"
    }
   ],
   "source": [
    "# What is the probability of getting 14 or more H?\n",
    "my_binomial.cdf(20) - my_binomial.cdf(13)"
   ]
  },
  {
   "cell_type": "code",
   "execution_count": 209,
   "id": "08a68c46",
   "metadata": {},
   "outputs": [
    {
     "data": {
      "text/plain": [
       "0.11531829833984375"
      ]
     },
     "execution_count": 209,
     "metadata": {},
     "output_type": "execute_result"
    }
   ],
   "source": [
    "# Getting 14H or 14 T\n",
    "(my_binomial.cdf(20) - my_binomial.cdf(13)) * 2"
   ]
  },
  {
   "cell_type": "markdown",
   "id": "c59d3135",
   "metadata": {},
   "source": [
    "## Let's test it"
   ]
  },
  {
   "cell_type": "markdown",
   "id": "e6f0ae39",
   "metadata": {},
   "source": [
    "### Binomial test for hypothesis"
   ]
  },
  {
   "cell_type": "markdown",
   "id": "ba536d7c",
   "metadata": {},
   "source": [
    "$P(Observation | H0) = 0.1154$"
   ]
  },
  {
   "cell_type": "markdown",
   "id": "8591d38e",
   "metadata": {},
   "source": [
    "Returns: **probability** of this happening when coin is fair"
   ]
  },
  {
   "cell_type": "code",
   "execution_count": 116,
   "id": "70066d76",
   "metadata": {},
   "outputs": [
    {
     "data": {
      "text/plain": [
       "BinomTestResult(k=14, n=20, alternative='two-sided', proportion_estimate=0.7, pvalue=0.11531829833984375)"
      ]
     },
     "execution_count": 116,
     "metadata": {},
     "output_type": "execute_result"
    }
   ],
   "source": [
    "# PROB of getting 14H when COIN IS FAIR\n",
    "binomtest(14, n=N, p=p, alternative='two-sided')"
   ]
  },
  {
   "cell_type": "code",
   "execution_count": 17,
   "id": "0a20b3ce",
   "metadata": {},
   "outputs": [],
   "source": [
    "# The probability that, given the coin is fair, this observation happens is 0.1154"
   ]
  },
  {
   "cell_type": "code",
   "execution_count": 206,
   "id": "a6f9f115",
   "metadata": {},
   "outputs": [
    {
     "data": {
      "text/plain": [
       "0.11531829833984375"
      ]
     },
     "execution_count": 206,
     "metadata": {},
     "output_type": "execute_result"
    }
   ],
   "source": [
    "p_value = binomtest(14, n=N, p=p, alternative='two-sided').pvalue\n",
    "p_value"
   ]
  },
  {
   "cell_type": "code",
   "execution_count": 208,
   "id": "c21ccfa6",
   "metadata": {},
   "outputs": [
    {
     "data": {
      "text/plain": [
       "0.0"
      ]
     },
     "execution_count": 208,
     "metadata": {},
     "output_type": "execute_result"
    }
   ],
   "source": [
    "my_binomial.pmf(confidence_interval)"
   ]
  },
  {
   "cell_type": "markdown",
   "id": "43dd00aa",
   "metadata": {},
   "source": [
    "## Okay, but what do I do with this info?"
   ]
  },
  {
   "cell_type": "markdown",
   "id": "e3be1273",
   "metadata": {},
   "source": [
    "The calculated `p_value` exceeds 0.05, so the observation is consistent with \"the coin is fair\": that the observed result of 14 heads out of 20 flips can be ascribed to\n",
    "chance alone — as it falls within the range of what would happen 95% of the time were\n",
    "this in fact the case."
   ]
  },
  {
   "cell_type": "markdown",
   "id": "041edc10",
   "metadata": {},
   "source": [
    "Is that good enough for me to think that the coin is fair? If my `p_value` (likelihood of obtaining that result when \"coin is fair\") is bigger than 0.05, then I can say \"Okay, it must have been chance\"."
   ]
  },
  {
   "cell_type": "markdown",
   "id": "85f82bf2",
   "metadata": {},
   "source": [
    "However if my `p_value` had been less than 0.05, that would tell me that the likelihood of getting that value being the coin fair is sooooo low, that it couldn't be explained by chance, so there must be other factors.\n",
    "\n",
    "Then we can say: I don't think the coin is fair."
   ]
  },
  {
   "cell_type": "markdown",
   "id": "a125c4b7",
   "metadata": {},
   "source": [
    "- If I ran the experiment 100 times: I'd get 14H about 11 times.\n",
    "- I find that acceptable. If it only happened 5 or less times, it would think something else is going on: coin is not fair"
   ]
  },
  {
   "cell_type": "markdown",
   "id": "0fb58560",
   "metadata": {},
   "source": [
    "# Recap of me testing my friendship:\n",
    "\n",
    "- I have an expected result, which is: everything's fine, it's all good: a fair coin will give me half & half\n",
    "- We experiment: we throw it 20 times.\n",
    "- I get 14/ 20. That seems suspicious. Is 14 close enough to what I expected? \n",
    "- Null hypothesis: everything's the same\n",
    "- Alternative hypothesis coin is not fair and I'll get a different result\n",
    "- I do a binomial test to get the ptobability of that same result happening given the coin is fair\n",
    "- I compare the p_value to my confidence interval (95): I will get this observation at least once by doing to the experiment 95 times\n",
    "- Is my p_value lower than that 0.05? Then it is extremely improbable it happened because opf chance. It must be tricked\n",
    "- is my p_value within that 95% range? Then it can be explained by chance"
   ]
  },
  {
   "cell_type": "markdown",
   "id": "080f2963",
   "metadata": {},
   "source": [
    "# In other words"
   ]
  },
  {
   "cell_type": "markdown",
   "id": "53c29320",
   "metadata": {},
   "source": [
    "1. I obtain a sample\n",
    "2. I declare `Null hypothesis`: \"There's no difference\"\n",
    "3. I declare `Alternative hypothesis`: \"There is a difference, either on the high end or the low end\"\n",
    "4. I use a statitical test: binomial test\n",
    "5. I check the probability that the result happened due to chance: `p_value`\n",
    "6. I check if the `p_value` falls within or outside the confidence interval\n",
    "7. If in: I don't have enough evidence to say it's not due to chance. \n",
    "8. If out: I reject null hypothesis and take the alternative: there's a difference"
   ]
  },
  {
   "cell_type": "markdown",
   "id": "73394f4c",
   "metadata": {},
   "source": [
    "## Some misunderstandings of p-values:\n",
    "\n",
    "1. The p-value is not the probability that the null hypothesis is true. (This false\n",
    "conclusion is used to justify the “rule” of considering a result to be significant if\n",
    "its p-value is very small (near zero).\n",
    "2. The p-value is not the probability of falsely rejecting the null hypothesis.\n",
    "3. 1 − (p-value) is not the probability of the alternative hypothesis being true.\n",
    "4. The significance level of the test is not determined by the p-value.\n",
    "The significance level of a test is a value that should be decided upon by the\n",
    "researcher interpreting the data before the data are viewed, and is compared\n",
    "against the p-value or any other statistic calculated after the test has been\n",
    "performed."
   ]
  },
  {
   "cell_type": "markdown",
   "id": "c289a22e",
   "metadata": {},
   "source": [
    "## Null hypothesis vs. Alternative hypothesis"
   ]
  },
  {
   "cell_type": "markdown",
   "id": "6214762f",
   "metadata": {},
   "source": [
    "If this was a trial"
   ]
  },
  {
   "cell_type": "markdown",
   "id": "dae2e13b",
   "metadata": {},
   "source": [
    "![Judge Judy](https://media.giphy.com/media/Emg9qPKR5hquI/giphy.gif)"
   ]
  },
  {
   "cell_type": "markdown",
   "id": "d7d5c7cb",
   "metadata": {},
   "source": [
    "- **Null hypothesis**: guilty until proven otherwise. Veredict: \"not guilty\" (instead of innocent). There's not enouch evident to say they are guilty\n",
    "\n",
    "- **Alternative hypothesis**: we do have enough evidene to say the person is guilty"
   ]
  }
 ],
 "metadata": {
  "kernelspec": {
   "display_name": "ironhack",
   "language": "python",
   "name": "ironhack"
  },
  "language_info": {
   "codemirror_mode": {
    "name": "ipython",
    "version": 3
   },
   "file_extension": ".py",
   "mimetype": "text/x-python",
   "name": "python",
   "nbconvert_exporter": "python",
   "pygments_lexer": "ipython3",
   "version": "3.8.13"
  },
  "nbTranslate": {
   "displayLangs": [
    "en",
    "es"
   ],
   "hotkey": "alt-a",
   "langInMainMenu": true,
   "sourceLang": "es",
   "targetLang": "en",
   "useGoogleTranslate": true
  },
  "toc": {
   "base_numbering": 1,
   "nav_menu": {},
   "number_sections": true,
   "sideBar": true,
   "skip_h1_title": false,
   "title_cell": "Table of Contents",
   "title_sidebar": "Contents",
   "toc_cell": true,
   "toc_position": {},
   "toc_section_display": true,
   "toc_window_display": false
  }
 },
 "nbformat": 4,
 "nbformat_minor": 5
}
